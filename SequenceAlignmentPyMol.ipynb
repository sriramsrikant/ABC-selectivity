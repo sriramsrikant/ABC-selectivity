{
 "cells": [
  {
   "cell_type": "code",
   "execution_count": 20,
   "metadata": {},
   "outputs": [],
   "source": [
    "##This is to analyze the sequences I get back from the libraries and eventually plot in PyMol figures. I am going to import the\n",
    "##Nucleotide alignment after exporting a FASTA file from Geneious. This is made by aligning the chromatograms from Sanger reads.\n",
    "\n",
    "#Importing the necessary libraries\n",
    "import sys\n",
    "from os import listdir\n",
    "from os.path import isfile, join\n",
    "\n",
    "import re\n",
    "\n",
    "import pandas as pd\n",
    "\n",
    "import Bio\n",
    "from Bio import AlignIO\n",
    "\n",
    "from pylab import *\n",
    "import matplotlib\n",
    "import numpy as np\n",
    "import matplotlib.pyplot as plt\n",
    "import seaborn as sns\n",
    "from scipy.stats import kendalltau\n",
    "\n",
    "#Setting matplotlib to be inline, and setting the fonttype for the pdf export to be consistent in Illustrator.\n",
    "%matplotlib inline\n",
    "\n",
    "matplotlib.rcParams['pdf.fonttype'] = 42\n",
    "matplotlib.rcParams['ps.fonttype'] = 42\n",
    "\n",
    "#Set the root directory\n",
    "root_dir = './Data';"
   ]
  },
  {
   "cell_type": "code",
   "execution_count": 21,
   "metadata": {},
   "outputs": [],
   "source": [
    "###Classes defined###\n",
    "class FASTAClass:\n",
    "    def __init__(self, id, seq):        \n",
    "        self.id = id        \n",
    "        self.seq = seq\n",
    "\n",
    "###Functions used here###\n",
    "def sequenceCleaner(mutants):\n",
    "    # Create our hash table to add the sequences\n",
    "    seqHash={}\n",
    "    seqUnique = []\n",
    "\n",
    "    # Using the Biopython fasta parse we can read our fasta input\n",
    "    for seq_record in mutants[1:]:\n",
    "        # Take the current sequence\n",
    "        sequence = str(seq_record.seq).upper()\n",
    "        # If the sequence passed in the test \"is it clean?\" and it isn't in the\n",
    "        # hash table, the sequence and its id are going to be in the hash\n",
    "        if sequence not in seqHash:\n",
    "            seqHash[sequence] = seq_record.id\n",
    "        # If it is already in the hash table, we're just gonna concatenate the ID\n",
    "        # of the current sequence to another one that is already in the hash table\n",
    "        else:\n",
    "            seqHash[sequence] += \"_\" + seq_record.id.split(\"_\")[-3].split(\"-\")[-1]\n",
    "    \n",
    "    # Making the final FASTAClass for the unique sequences\n",
    "    seqUnique.append(FASTAClass(mutants[0].id, mutants[0].seq))\n",
    "    for sequence in seqHash:\n",
    "        seqUnique.append(FASTAClass(seq_record.id.split(\"_\")[-3], sequence))\n",
    "            \n",
    "    return seqUnique"
   ]
  },
  {
   "cell_type": "code",
   "execution_count": 22,
   "metadata": {},
   "outputs": [
    {
     "name": "stdout",
     "output_type": "stream",
     "text": [
      "E-021_TMH4-6_v3-org_nucl-align.fasta\n",
      "E-021_TMH4-6_v3-sort04_nucl-align.fasta\n"
     ]
    }
   ],
   "source": [
    "#Set the data directory\n",
    "data_dir = '';\n",
    "\n",
    "#Pick a test data file\n",
    "data_file = root_dir+data_dir\n",
    "#print(root_dir+data_dir)\n",
    "\n",
    "#Printing file list\n",
    "fileList = [f for f in listdir(root_dir+data_dir) if f.endswith(\".fasta\")]\n",
    "print(\"\\n\".join(fileList))"
   ]
  },
  {
   "cell_type": "code",
   "execution_count": 27,
   "metadata": {},
   "outputs": [
    {
     "name": "stdout",
     "output_type": "stream",
     "text": [
      "Alignment length 483\n",
      "Alignment size 86\n",
      "Reduced alignment size 77\n",
      "Cleaned alignment size 70\n",
      "YALI0E05973-pSS021_(modified)_TMH4-6_ROI_extraction TACCATTCGTGGAGTTTGACATTGGTGATCATGGCAGGTTTACCTATAATTGTTCTGGTAGCTATGGGAGTGGCACCTCGTCTTCAGAGACACTTCAGAGACTACAAGGGGGTTATCACTGACGCTTCCGTCATGATTGACTGGTCTATGTCCGGCCTACAACATGTCAAGCTCTCCAACGGCGAGAAGAAACAAATGTCGATTCTTCAGTATCAGATGCATCTTGCTACCATATGCTACATGAAGTTCACAACATGGTCTGCTGCTCAGCAGGCGTTCATGCAGGTACTTGCACTGATCATGTTCGTCCAGGGTTTCTGGTTTGGGGCCAAGCAGGTTCAAATCGGAAACTTGACTGCTGGAGCGGTCATGACCTGTTTCTTTTCGGCAATGGCTGTCACGTCCCATATTGCTTCCATCACCGGACAGATGATGTCGATCATGAAAGCCATGGTATCTGCAGGACTCGTCAACCAGCTCATC\n"
     ]
    }
   ],
   "source": [
    "##Input an alignment for the analysis, and run my pre-cleaning on the Alignment.\n",
    "\n",
    "alignFile = data_file+\"/E-021_TMH4-6_v3-org_nucl-align.fasta\"\n",
    "testAlignment = AlignIO.read(open(alignFile), \"fasta\")\n",
    "print(\"Alignment length %i\" % testAlignment.get_alignment_length())\n",
    "print(\"Alignment size %i\" % len(testAlignment))\n",
    "#for record in testAlignment :\n",
    "#    print(record.seq[:120])\n",
    "\n",
    "#print(testAlignment[1].seq)\n",
    "#print(testAlignment[1].seq.ungap(\"-\").translate())\n",
    "\n",
    "reducedTestAlignment = []\n",
    "for record in testAlignment:\n",
    "    if (record.seq.count(\"-\") == 0):\n",
    "        reducedTestAlignment.append(record)\n",
    "\n",
    "print(\"Reduced alignment size %i\" % len(reducedTestAlignment))\n",
    "#for record in reducedTestAlignment:\n",
    "#    print(record.seq.translate())\n",
    "\n",
    "cleanedTestAlignment = sequenceCleaner(reducedTestAlignment)\n",
    "print(\"Cleaned alignment size %i\" % len(cleanedTestAlignment))\n",
    "print(cleanedTestAlignment[0].id, cleanedTestAlignment[0].seq)\n",
    "\n",
    "#print(record.id.split(\"_\")[-3].split(\"-\")[-1])"
   ]
  },
  {
   "cell_type": "code",
   "execution_count": 49,
   "metadata": {},
   "outputs": [
    {
     "data": {
      "text/plain": [
       "(array([0.5, 1.5, 2.5, 3.5, 4.5, 5.5, 6.5, 7.5, 8.5, 9.5]),\n",
       " <a list of 10 Text yticklabel objects>)"
      ]
     },
     "execution_count": 49,
     "metadata": {},
     "output_type": "execute_result"
    },
    {
     "data": {
      "image/png": "[encoded data removed]",
      "text/plain": [
       "<Figure size 1296x432 with 2 Axes>"
      ]
     },
     "metadata": {
      "needs_background": "light"
     },
     "output_type": "display_data"
    }
   ],
   "source": [
    "##I am going to write code that gives the number of variation in each column.\n",
    "#mutantCounts = [[0 for col in range(len(cleanedTestAlignment[0].seq))] for row in range(len(cleanedTestAlignment)-1)]\n",
    "mutantCounts = [0 for col in range(len(cleanedTestAlignment[0].seq))]\n",
    "\n",
    "#print(len(cleanedTestAlignment[1].seq))\n",
    "\n",
    "seqCount = 0\n",
    "for record in cleanedTestAlignment[1:]:\n",
    "    residueCount = 0\n",
    "    for residue in record.seq:\n",
    "        #print(residue, residueCount, seqCount)\n",
    "        if residue != cleanedTestAlignment[0].seq[residueCount]:\n",
    "            mutantCounts[residueCount] += 1\n",
    "        residueCount += 1\n",
    "    seqCount +=1\n",
    "\n",
    "#print(seqCount, residueCount)\n",
    "#print(mutantCounts)\n",
    "\n",
    "heatMapMutations = [[0 for i in range(50)] for j in range(len(cleanedTestAlignment[0].seq)//50+1)]\n",
    "\n",
    "for iterCount in range(len(cleanedTestAlignment[0].seq)):\n",
    "    #print(iterCount)\n",
    "    heatMapMutations[(iterCount)//50][(iterCount)%50] = mutantCounts[iterCount]\n",
    "#print(heatMapMutations)\n",
    "\n",
    "fig1 = figure(figsize=(18,6))\n",
    "ax = sns.heatmap(heatMapMutations, linewidths=2)\n",
    "plt.yticks(rotation=0)"
   ]
  },
  {
   "cell_type": "code",
   "execution_count": null,
   "metadata": {},
   "outputs": [],
   "source": []
  }
 ],
 "metadata": {
  "kernelspec": {
   "display_name": "Python 3",
   "language": "python",
   "name": "python3"
  },
  "language_info": {
   "codemirror_mode": {
    "name": "ipython",
    "version": 3
   },
   "file_extension": ".py",
   "mimetype": "text/x-python",
   "name": "python",
   "nbconvert_exporter": "python",
   "pygments_lexer": "ipython3",
   "version": "3.7.1"
  }
 },
 "nbformat": 4,
 "nbformat_minor": 2
}
