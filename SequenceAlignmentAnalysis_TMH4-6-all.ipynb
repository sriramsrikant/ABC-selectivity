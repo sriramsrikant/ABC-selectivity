{
 "cells": [
  {
   "cell_type": "code",
   "execution_count": 1,
   "metadata": {},
   "outputs": [],
   "source": [
    "##This is to analyze the sequences I get back from the libraries and eventually plot in PyMol figures. I am going to import the\n",
    "##Nucleotide alignment after exporting a FASTA file from Geneious. This is made by aligning the chromatograms from Sanger reads.\n",
    "\n",
    "#Importing the necessary libraries\n",
    "import sys\n",
    "from os import listdir\n",
    "from os.path import isfile, join\n",
    "\n",
    "import re\n",
    "\n",
    "import pandas as pd\n",
    "\n",
    "import Bio\n",
    "from Bio import AlignIO\n",
    "from Bio import SeqUtils\n",
    "\n",
    "from pylab import *\n",
    "import matplotlib\n",
    "import numpy as np\n",
    "import matplotlib.pyplot as plt\n",
    "import seaborn as sns\n",
    "from scipy.stats import poisson\n",
    "from scipy.stats import kendalltau\n",
    "\n",
    "#Setting matplotlib to be inline, and setting the fonttype for the pdf export to be consistent in Illustrator.\n",
    "%matplotlib inline\n",
    "\n",
    "matplotlib.rcParams['pdf.fonttype'] = 42\n",
    "matplotlib.rcParams['ps.fonttype'] = 42\n",
    "\n",
    "#Set the root directory\n",
    "root_dir = './Data';"
   ]
  },
  {
   "cell_type": "code",
   "execution_count": 2,
   "metadata": {},
   "outputs": [],
   "source": [
    "###Classes defined###\n",
    "class FASTAClass:\n",
    "    def __init__(self, id, seq):        \n",
    "        self.id = id        \n",
    "        self.seq = seq\n",
    "\n",
    "###Functions used here###\n",
    "def sequenceCleaner(mutants):\n",
    "    # Create our hash table to add the sequences\n",
    "    seqHash={}\n",
    "    seqUnique = []\n",
    "\n",
    "    # Using the Biopython fasta parse we can read our fasta input\n",
    "    for seq_record in mutants[1:]:\n",
    "        # Take the current sequence\n",
    "        sequence = str(seq_record.seq).upper()\n",
    "        # If the sequence passed in the test \"is it clean?\" and it isn't in the\n",
    "        # hash table, the sequence and its id are going to be in the hash\n",
    "        if sequence not in seqHash:\n",
    "            seqHash[sequence] = seq_record.id\n",
    "        # If it is already in the hash table, we're just gonna concatenate the ID\n",
    "        # of the current sequence to another one that is already in the hash table\n",
    "        else:\n",
    "            seqHash[sequence] += \"_\" + seq_record.id.split(\"_\")[-3].split(\"-\")[-1]\n",
    "    \n",
    "    # Making the final FASTAClass for the unique sequences\n",
    "    seqUnique.append(FASTAClass(mutants[0].id, mutants[0].seq))\n",
    "    for sequence in seqHash:\n",
    "        seqUnique.append(FASTAClass(seqHash[sequence], sequence))\n",
    "            \n",
    "    return seqUnique"
   ]
  },
  {
   "cell_type": "code",
   "execution_count": 3,
   "metadata": {},
   "outputs": [
    {
     "name": "stdout",
     "output_type": "stream",
     "text": [
      "Sequence files:\n",
      "E-021_TMH4-6_v3-org_nucl-align.fasta\n",
      "E-021_TMH4-6_v3-org_nucl-align_unique.fasta\n",
      "E-021_TMH4-6_v3-sort04_nucl-align.fasta\n",
      "E05973_TMH10-12_v1-v2-sort04-05-05a_v3-sort04a-05_v4-sort04_all.fasta\n",
      "E05973_TMH10-12_v1-v2-sort04-05-05a_v3-sort04a-05_v4-sort04_all_unique-translate.fasta\n",
      "E05973_TMH10-12_v1-v2-sort04-05-05a_v3-sort04a-05_v4-sort04_all_unique.fasta\n",
      "E05973_TMH4-6_v1-sort04_v3-sort04_v4-sort04_all.fasta\n",
      "E05973_TMH4-6_v1-sort04_v3-sort04_v4-sort04_all_unique-translate.fasta\n",
      "E05973_TMH4-6_v1-sort04_v3-sort04_v4-sort04_all_unique.fasta\n",
      "plateSeq03_E05973_TMH10-12_Mutlib-v1-v2-s04b_corrected.fasta\n",
      "plateSeq03_E05973_TMH10-12_Mutlib-v1-v2-s04b_corrected_unique.fasta\n"
     ]
    }
   ],
   "source": [
    "#Set the data directory\n",
    "data_dir = '';\n",
    "\n",
    "#Pick a test data file\n",
    "data_file = root_dir+data_dir\n",
    "#print(root_dir+data_dir)\n",
    "\n",
    "#Printing file list\n",
    "fileList = [f for f in listdir(root_dir+data_dir) if f.endswith(\".fasta\")]\n",
    "print(\"Sequence files:\")\n",
    "print(\"\\n\".join(fileList))"
   ]
  },
  {
   "cell_type": "code",
   "execution_count": 4,
   "metadata": {},
   "outputs": [
    {
     "name": "stdout",
     "output_type": "stream",
     "text": [
      "Alignment length 483\n",
      "Alignment size 91\n",
      "Reduced alignment size 91\n",
      "Cleaned Aa alignment size 62\n",
      "Cleaned Nucl alignment size 64\n",
      "YALI0E05973[TMH4-6]_ROI YHSWSLTLVIMAGLPIIVLVAMGVAPRLQRHFRDYKGVITDASVMIDWSMSGLQHVKLSNGEKKQMSILQYQMHLATICYMKFTTWSAAQQAFMQVLALIMFVQGFWFGAKQVQIGNLTAGAVMTCFFSAMAVTSHIASITGQMMSIMKAMVSAGLVNQLI\n",
      "Unique sequences are printed in:\t ./Data/E05973_TMH4-6_v1-sort04_v3-sort04_v4-sort04_all_unique.fasta\n",
      "Unique sequences are printed in:\t ./Data/E05973_TMH4-6_v1-sort04_v3-sort04_v4-sort04_all_unique-translate.fasta\n"
     ]
    }
   ],
   "source": [
    "##Input an alignment for the analysis, and run my pre-cleaning on the Alignment.\n",
    "\n",
    "alignFile = data_file+\"/E05973_TMH4-6_v1-sort04_v3-sort04_v4-sort04_all.fasta\"\n",
    "nuclAlignment = AlignIO.read(open(alignFile), \"fasta\")\n",
    "print(\"Alignment length %i\" % nuclAlignment.get_alignment_length())\n",
    "print(\"Alignment size %i\" % len(nuclAlignment))\n",
    "#for record in nuclAlignment :\n",
    "#    print(record.seq[:120])\n",
    "\n",
    "#print(nuclAlignment[1].seq)\n",
    "#print(nuclAlignment[1].seq.ungap(\"-\").translate())\n",
    "\n",
    "reducedNuclAlignment = []\n",
    "for record in nuclAlignment:\n",
    "    if (record.seq.count(\"-\") == 0):\n",
    "        reducedNuclAlignment.append(record)\n",
    "\n",
    "print(\"Reduced alignment size %i\" % len(reducedNuclAlignment))\n",
    "#for record in reducedNuclAlignment:\n",
    "#    print(record.seq.translate())\n",
    "\n",
    "reducedAaAlignment = []\n",
    "for record in reducedNuclAlignment:\n",
    "    reducedAaAlignment.append(FASTAClass(record.id, record.seq.translate()))\n",
    "\n",
    "cleanedAaAlignment = sequenceCleaner(reducedAaAlignment)\n",
    "cleanedNuclAlignment = sequenceCleaner(reducedNuclAlignment)\n",
    "print(\"Cleaned Aa alignment size %i\" % len(cleanedAaAlignment))\n",
    "print(\"Cleaned Nucl alignment size %i\" % len(cleanedNuclAlignment))\n",
    "print(cleanedAaAlignment[0].id, cleanedAaAlignment[0].seq)\n",
    "\n",
    "#print(reducedAaAlignment[-1].id.split(\"_\")[-3])\n",
    "#print(cleanedAaAlignment[-2].id)\n",
    "\n",
    "outputUniqueNucl = alignFile[:-6]+\"_unique.fasta\"\n",
    "outputHandle = open(outputUniqueNucl,\"w\")\n",
    "for sequence in cleanedNuclAlignment:\n",
    "    outputHandle.write(\">\"+str(sequence.id)+\"\\n\"+str(sequence.seq)+\"\\n\")\n",
    "outputHandle.close()\n",
    "print(\"Unique sequences are printed in:\\t\", outputUniqueNucl)\n",
    "\n",
    "outputUniqueAa = alignFile[:-6]+\"_unique-translate.fasta\"\n",
    "outputHandle = open(outputUniqueAa,\"w\")\n",
    "for sequence in cleanedAaAlignment:\n",
    "    outputHandle.write(\">\"+str(sequence.id)+\"\\n\"+str(sequence.seq)+\"\\n\")\n",
    "outputHandle.close()\n",
    "print(\"Unique sequences are printed in:\\t\", outputUniqueAa)"
   ]
  },
  {
   "cell_type": "code",
   "execution_count": 5,
   "metadata": {},
   "outputs": [
    {
     "data": {
      "text/plain": [
       "(array([0.5, 1.5, 2.5, 3.5, 4.5]), <a list of 5 Text yticklabel objects>)"
      ]
     },
     "execution_count": 5,
     "metadata": {},
     "output_type": "execute_result"
    },
    {
     "data": {
      "image/png": "[encoded data removed]",
      "text/plain": [
       "<Figure size 1296x432 with 2 Axes>"
      ]
     },
     "metadata": {
      "needs_background": "light"
     },
     "output_type": "display_data"
    }
   ],
   "source": [
    "##I am going to write code that gives the number of variation in each column.\n",
    "#mutantCounts = [[0 for col in range(len(cleanedTestAlignment[0].seq))] for row in range(len(cleanedTestAlignment)-1)]\n",
    "mutantCounts = [0 for col in range(len(cleanedAaAlignment[0].seq))]\n",
    "\n",
    "#print(len(cleanedTestAlignment[1].seq))\n",
    "\n",
    "seqCount = 0\n",
    "for record in cleanedAaAlignment[1:]:\n",
    "    residueCount = 0\n",
    "    for residue in record.seq:\n",
    "        #print(residue, residueCount, seqCount)\n",
    "        if residue != cleanedAaAlignment[0].seq[residueCount]:\n",
    "            mutantCounts[residueCount] += 1\n",
    "        residueCount += 1\n",
    "    seqCount +=1\n",
    "\n",
    "#print(seqCount, residueCount)\n",
    "#print(mutantCounts)\n",
    "\n",
    "heatMapMutations = [[0 for i in range(40)] for j in range(len(cleanedAaAlignment[0].seq)//40+1)]\n",
    "\n",
    "for iterCount in range(len(cleanedAaAlignment[0].seq)):\n",
    "    #print(iterCount)\n",
    "    heatMapMutations[(iterCount)//40][(iterCount)%40] = mutantCounts[iterCount]\n",
    "#print(heatMapMutations)\n",
    "\n",
    "fig1 = figure(figsize=(18,6))\n",
    "ax = sns.heatmap(heatMapMutations, linewidths=2)\n",
    "plt.yticks(rotation=0)\n",
    "#savefig(root_dir+'/heatMap_TMH4-6_all_uniques.pdf', dpi=300, transparent=True)"
   ]
  },
  {
   "cell_type": "code",
   "execution_count": 6,
   "metadata": {},
   "outputs": [
    {
     "name": "stdout",
     "output_type": "stream",
     "text": [
      "/Data/E05973_TMH4-6_v1-sort04_v3-sort04_v4-sort04_all_mutantCounts.csv\n"
     ]
    }
   ],
   "source": [
    "##I am going to output a file that can be ingested into PyMol directly by the <data2b_res.py> script. I need to remember that the order is \"ChainID, 3-letter-aa, resi, b-factor\"\n",
    "outputFile = alignFile.split(\".\")[1]+\"_mutantCounts.csv\"\n",
    "print(outputFile)\n",
    "\n",
    "startTMH4to6 = 199\n",
    "startTMH10to12 = 851\n",
    "chainID = \"A\"\n",
    "mutantCountsPyMolList = []\n",
    "resiCount = 0\n",
    "for resiCount in range(len(cleanedAaAlignment[0].seq)):\n",
    "    mutantCountsPyMolList.append([chainID, (startTMH4to6+resiCount), SeqUtils.seq3(cleanedAaAlignment[0].seq[resiCount]).upper(), mutantCounts[resiCount]])\n",
    "#print(mutantCountsPyMolList)\n",
    "#print(len(cleanedAaAlignment[0].seq))\n",
    "mutantCountsPyMol = pd.DataFrame.from_records(mutantCountsPyMolList)\n",
    "#print(mutantCountsPyMol)\n",
    "\n",
    "#mutantCountsPyMol.to_csv('.'+outputFile, sep='\\t', encoding='utf-8', index=False, header=False)"
   ]
  },
  {
   "cell_type": "code",
   "execution_count": 7,
   "metadata": {},
   "outputs": [
    {
     "name": "stdout",
     "output_type": "stream",
     "text": [
      "Max mutants/pos:  13 \n",
      "Sum of unique mutations:  180\n",
      "[0, 1, 2, 3, 4, 5, 6, 7, 8, 9, 10, 11, 12, 13]\n",
      "[0.27 0.14 0.72 0.68 0.18 0.83 0.71 0.8  0.67 0.29 0.53 0.35 0.23 0.22\n",
      " 0.9  0.24 0.15 0.12 0.19 0.21 0.16 0.12 0.19 0.14 0.23 0.16 0.12 0.17\n",
      " 0.11 0.34 0.13 0.21 0.11 0.12 0.42 0.21 0.1  0.12 0.34 0.2  0.09 0.7\n",
      " 0.31 0.33 0.14 0.23 0.14 0.18 0.38 0.2  0.15 0.32 0.68 0.18 0.36 0.85\n",
      " 0.78 0.22 0.43 0.69 0.4  0.24 0.11 0.09 0.84 0.12 0.09 0.14 0.31 0.08\n",
      " 0.09 0.13 0.22 0.11 0.12 0.25 0.2  0.1  0.11 0.33 0.11 0.21 0.24 0.3\n",
      " 0.12 0.12 0.2  0.29 0.16 0.33 0.14 0.45 0.13 0.13 0.2  0.46 0.16 0.18\n",
      " 0.18 0.17 0.43 0.91 0.73 0.49 0.77 0.91 0.68 0.47 0.87 0.2  0.12 0.7\n",
      " 0.57 0.16 0.1  0.72 0.14 0.18 0.19 0.28 0.67 0.19 0.69 0.25 0.45 0.32\n",
      " 0.94 0.38 0.55 0.41 0.68 0.16 0.51 0.15 0.29 0.17 0.28 0.25 0.12 0.16\n",
      " 0.19 0.54 0.36 0.18 0.23 0.28 0.48 0.15 0.73 0.79 0.29 0.15 0.69 0.24\n",
      " 0.17 0.12 0.71 0.1  0.11 0.26 0.16]\n",
      "     Position  Identity  Mean Hydrophobicity  Mean PI  Sequence Logo\n",
      "198       199      0.27                 0.78     0.38           0.72\n",
      "199       200      0.14                 0.54     0.52           0.47\n",
      "200       201      0.72                 0.37     0.36           1.51\n"
     ]
    }
   ],
   "source": [
    "SeqUtils.seq3(\"ARG\").upper()\n",
    "\n",
    "print(\"Max mutants/pos: \", max(mutantCounts[:]), \"\\nSum of unique mutations: \", sum(mutantCounts))\n",
    "#len(mutantCounts)\n",
    "#print(range(161))\n",
    "\n",
    "Ticks = list(range(max(mutantCounts[:])+1))\n",
    "print(Ticks)\n",
    "\n",
    "#read_file = data_file+\"/Fungiv2p1_hmmalign-hhfilter_graphs.csv\"\n",
    "read_file = data_file+\"/Fungiv2p1_hmmalign-hhfilter-focus-mod_cleaned_190906.csv\"\n",
    "orthologAlign = pd.read_csv(read_file)\n",
    "print(orthologAlign['Identity'].values[startTMH4to6-1:startTMH4to6-1+len(mutantCounts)])\n",
    "print(orthologAlign[startTMH4to6-1:startTMH4to6+2])"
   ]
  },
  {
   "cell_type": "code",
   "execution_count": 8,
   "metadata": {},
   "outputs": [
    {
     "data": {
      "image/png": "[encoded data removed]",
      "text/plain": [
       "<Figure size 1728x504 with 2 Axes>"
      ]
     },
     "metadata": {
      "needs_background": "light"
     },
     "output_type": "display_data"
    }
   ],
   "source": [
    "fig2 = figure(figsize=(24,7))\n",
    "ax1 = subplot(211)\n",
    "ax1 = plt.bar(range(161), (orthologAlign['Identity'].values[startTMH4to6-1:startTMH4to6-1+len(mutantCounts)]), width=1, align='center', color=\"red\")\n",
    "plt.tick_params(\n",
    "    axis='x',          # changes apply to the x-axis\n",
    "    which='both',      # both major and minor ticks are affected\n",
    "    bottom=False,      # ticks along the bottom edge are off\n",
    "    top=False,         # ticks along the top edge are off\n",
    "    labelbottom=False) #No labels are shown\n",
    "plt.margins(x=0.005)\n",
    "ax2 = subplot(212)\n",
    "ax2 = plt.bar(range(161), (mutantCounts), width=1, align='center', color=\"black\", tick_label=cleanedAaAlignment[0].seq)\n",
    "plt.yticks(Ticks)\n",
    "plt.tick_params(\n",
    "    axis='x',          # changes apply to the x-axis\n",
    "    which='both',      # both major and minor ticks are affected\n",
    "    bottom=False,      # ticks along the bottom edge are off\n",
    "    top=False)         # ticks along the top edge are off\n",
    "plt.margins(x=0.005)\n",
    "plt.tight_layout()\n",
    "\n",
    "#savefig(root_dir+'/barMap_TMH4-6_all_uniques_190906.pdf', dpi=300, transparent=True)"
   ]
  },
  {
   "cell_type": "code",
   "execution_count": 13,
   "metadata": {},
   "outputs": [
    {
     "data": {
      "text/plain": [
       "<seaborn.axisgrid.JointGrid at 0x20ca62314a8>"
      ]
     },
     "execution_count": 13,
     "metadata": {},
     "output_type": "execute_result"
    },
    {
     "data": {
      "image/png": "[encoded data removed]",
      "text/plain": [
       "<Figure size 432x432 with 3 Axes>"
      ]
     },
     "metadata": {
      "needs_background": "light"
     },
     "output_type": "display_data"
    }
   ],
   "source": [
    "sns.jointplot(x=(orthologAlign['Identity'].values[startTMH4to6-1:startTMH4to6-1+len(mutantCounts)]), y=(mutantCounts), kind=\"hex\")"
   ]
  },
  {
   "cell_type": "code",
   "execution_count": 9,
   "metadata": {},
   "outputs": [
    {
     "name": "stdout",
     "output_type": "stream",
     "text": [
      "[2 2 1 1 1 0 2 2 2 0] \n",
      "Lambda =  1.1180124223602483 \tSize =  161\n",
      "[95, 28, 13, 10, 3, 3, 4, 2, 1, 0, 1, 0, 0, 1]\n"
     ]
    },
    {
     "data": {
      "text/plain": [
       "(-1, 16)"
      ]
     },
     "execution_count": 9,
     "metadata": {},
     "output_type": "execute_result"
    },
    {
     "data": {
      "image/png": "[encoded data removed]",
      "text/plain": [
       "<Figure size 576x288 with 1 Axes>"
      ]
     },
     "metadata": {
      "needs_background": "light"
     },
     "output_type": "display_data"
    }
   ],
   "source": [
    "##I am going to Poisson sample the number of mutations that are going to be drawn for this range.\n",
    "##I need to add an extra bin since the this list is a right limit of bins and it inappropriately counts the highest mutCount values in the bin.\n",
    "bins = list(range(max(mutantCounts)+2))\n",
    "\n",
    "mutCountsPoisson = np.random.poisson(sum(mutantCounts)/len(mutantCounts), len(mutantCounts))\n",
    "mutPoissonPmf = len(mutantCounts)*poisson.pmf(bins, sum(mutantCounts)/len(mutantCounts))\n",
    "#print(mutPoissonPmf)\n",
    "\n",
    "print(mutCountsPoisson[:10], \"\\nLambda = \", sum(mutantCounts)/len(mutantCounts), \"\\tSize = \", len(mutCountsPoisson))\n",
    "#sns.palplot(sns.color_palette()[1])\n",
    "\n",
    "histMutantCounts, bin_edges = np.histogram(mutantCounts, bins)\n",
    "print(histMutantCounts.tolist()[:])\n",
    "\n",
    "\n",
    "fig3 = figure(figsize=(8,4))\n",
    "ax2 = plt.bar(bins, mutPoissonPmf, label=\"Poisson PMF\", color=\"#FFD31A\", align=\"edge\", width=1)\n",
    "#ax2 = plt.bar(bins, mutPoissonPmf, label=\"Poisson PMF\", color=sns.color_palette()[1], align=\"edge\", width=1)\n",
    "#ax2 = sns.distplot(mutCountsPoisson, bins, kde=False, label=\"Poisson distribution\")\n",
    "#ax2 = sns.barplot(bins, histMutantCounts.tolist()[:], label=\"TM4-6/selected clones\")\n",
    "ax2 = sns.distplot(mutantCounts, bins, kde=False, label=\"TM4-6/selected clones\")\n",
    "ax2.legend()\n",
    "xlim((-1,bins[-1]+2))\n",
    "\n",
    "#savefig(root_dir+'/mutCountPosHist_TMH4-6_all_uniques_190820.pdf', dpi=300, transparent=True)"
   ]
  },
  {
   "cell_type": "code",
   "execution_count": 10,
   "metadata": {},
   "outputs": [
    {
     "name": "stdout",
     "output_type": "stream",
     "text": [
      "[[ 0 95]\n",
      " [ 1 28]\n",
      " [ 2 13]\n",
      " [ 3 10]\n",
      " [ 4  3]\n",
      " [ 5  3]\n",
      " [ 6  4]\n",
      " [ 7  2]\n",
      " [ 8  1]\n",
      " [ 9  0]\n",
      " [10  1]\n",
      " [11  0]\n",
      " [12  0]\n",
      " [13  1]]\n"
     ]
    }
   ],
   "source": [
    "#print(bin_edges)\n",
    "#print(bins[:-1], histMutantCounts.tolist())\n",
    "print(np.vstack((bins[:-1], histMutantCounts.tolist())).T.astype(int))\n",
    "#np.savetxt(\"histMutCount_TM4-6-all_190820.csv\", np.vstack((bins[:-1], histMutantCounts.tolist())).T.astype(int), delimiter=\",\")"
   ]
  },
  {
   "cell_type": "code",
   "execution_count": 12,
   "metadata": {},
   "outputs": [
    {
     "data": {
      "text/plain": [
       "(0, 8)"
      ]
     },
     "execution_count": 12,
     "metadata": {},
     "output_type": "execute_result"
    },
    {
     "data": {
      "image/png": "[encoded data removed]",
      "text/plain": [
       "<Figure size 576x288 with 1 Axes>"
      ]
     },
     "metadata": {
      "needs_background": "light"
     },
     "output_type": "display_data"
    }
   ],
   "source": [
    "##I am going to build a distribution of mutations per clone, rather than mutations per position.\n",
    "mutantCloneCounts = []\n",
    "for iterate in range(len(cleanedAaAlignment)-1):\n",
    "    #print(iterate)\n",
    "    expression = (1 for a, b in zip(cleanedAaAlignment[0].seq, cleanedAaAlignment[iterate+1].seq) if a != b)\n",
    "    mutantCloneCounts.append(np.sum(np.fromiter(expression, int)))\n",
    "countBins = list(range(max(mutantCloneCounts)+2))\n",
    "\n",
    "fig4 = figure(figsize=(8,4))\n",
    "ax4 = sns.distplot(mutantCloneCounts, countBins, kde=False, color=\"black\", label=\"TM4-6 mutations per clone\", \n",
    "                   hist_kws={\"histtype\": \"step\", \"linewidth\": 3, \"alpha\": 1, \"color\": \"k\"})\n",
    "xlim((0,max(mutantCloneCounts)+2))\n",
    "\n",
    "#savefig(root_dir+'/mutantCountCloneHist_TMH4-6_all_uniques_190503.pdf', dpi=300, transparent=True)"
   ]
  },
  {
   "cell_type": "code",
   "execution_count": null,
   "metadata": {},
   "outputs": [],
   "source": []
  }
 ],
 "metadata": {
  "kernelspec": {
   "display_name": "Python 3",
   "language": "python",
   "name": "python3"
  },
  "language_info": {
   "codemirror_mode": {
    "name": "ipython",
    "version": 3
   },
   "file_extension": ".py",
   "mimetype": "text/x-python",
   "name": "python",
   "nbconvert_exporter": "python",
   "pygments_lexer": "ipython3",
   "version": "3.7.3"
  }
 },
 "nbformat": 4,
 "nbformat_minor": 2
}
