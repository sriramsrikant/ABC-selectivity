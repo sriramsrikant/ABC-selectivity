{
 "cells": [
  {
   "cell_type": "code",
   "execution_count": 1,
   "metadata": {},
   "outputs": [],
   "source": [
    "##This is to analyze the sequences I get back from the libraries and eventually plot in PyMol figures. I am going to import the\n",
    "##Nucleotide alignment after exporting a FASTA file from Geneious. This is made by aligning the chromatograms from Sanger reads.\n",
    "\n",
    "#Importing the necessary libraries\n",
    "import sys\n",
    "from os import listdir\n",
    "from os.path import isfile, join\n",
    "\n",
    "import re\n",
    "\n",
    "import pandas as pd\n",
    "\n",
    "import Bio\n",
    "from Bio import AlignIO\n",
    "from Bio import SeqUtils\n",
    "\n",
    "from pylab import *\n",
    "import matplotlib\n",
    "import numpy as np\n",
    "import matplotlib.pyplot as plt\n",
    "import seaborn as sns\n",
    "from scipy.stats import poisson\n",
    "from scipy.stats import kendalltau\n",
    "\n",
    "#Setting matplotlib to be inline, and setting the fonttype for the pdf export to be consistent in Illustrator.\n",
    "%matplotlib inline\n",
    "\n",
    "matplotlib.rcParams['pdf.fonttype'] = 42\n",
    "matplotlib.rcParams['ps.fonttype'] = 42\n",
    "\n",
    "#Set the root directory\n",
    "root_dir = './Data';"
   ]
  },
  {
   "cell_type": "code",
   "execution_count": 2,
   "metadata": {},
   "outputs": [],
   "source": [
    "###Classes defined###\n",
    "class FASTAClass:\n",
    "    def __init__(self, id, seq):        \n",
    "        self.id = id        \n",
    "        self.seq = seq\n",
    "\n",
    "###Functions used here###\n",
    "def sequenceCleaner(mutants):\n",
    "    # Create our hash table to add the sequences\n",
    "    seqHash={}\n",
    "    seqUnique = []\n",
    "\n",
    "    # Using the Biopython fasta parse we can read our fasta input\n",
    "    for seq_record in mutants[1:]:\n",
    "        # Take the current sequence\n",
    "        sequence = str(seq_record.seq).upper()\n",
    "        # If the sequence passed in the test \"is it clean?\" and it isn't in the\n",
    "        # hash table, the sequence and its id are going to be in the hash\n",
    "        if sequence not in seqHash:\n",
    "            seqHash[sequence] = seq_record.id\n",
    "        # If it is already in the hash table, we're just gonna concatenate the ID\n",
    "        # of the current sequence to another one that is already in the hash table\n",
    "        else:\n",
    "            seqHash[sequence] += \"_\" + seq_record.id.split(\"_\")[-3].split(\"-\")[-1]\n",
    "    \n",
    "    # Making the final FASTAClass for the unique sequences\n",
    "    seqUnique.append(FASTAClass(mutants[0].id, mutants[0].seq))\n",
    "    for sequence in seqHash:\n",
    "        seqUnique.append(FASTAClass(seqHash[sequence], sequence))\n",
    "            \n",
    "    return seqUnique"
   ]
  },
  {
   "cell_type": "code",
   "execution_count": 3,
   "metadata": {},
   "outputs": [
    {
     "name": "stdout",
     "output_type": "stream",
     "text": [
      "Sequence files:\n",
      "E05973_TMH10-12_v1-v2-sort04-05-05a_v3-sort04a-05_v4-sort04_all_mutantCounts.csv\n",
      "E05973_TMH4-6_v1-sort04_v3-sort04_v4-sort04_all_mutantCounts.csv\n",
      "Fungiv2p1_hmmalign-hhfilter_graphs.csv\n",
      "mutantCountsPyMol.csv\n",
      "plateSeq03_E05973_TMH10-12_Mutlib-v1-v2-s04b_corrected_mutantCounts.csv\n",
      "pySCA-6_Fungiv2p1_hmmalign_hhfilter_Di.csv\n",
      "SergeyMIscriptFungiv2p1_hmmalign_hhfilter_H.csv\n",
      "Single-mut_Autocrine-uniqueMutPos_190501.csv\n",
      "_mutantCounts.csv\n"
     ]
    }
   ],
   "source": [
    "#Set the data directory\n",
    "data_dir = '';\n",
    "\n",
    "#Pick a test data file\n",
    "data_file = root_dir+data_dir\n",
    "#print(root_dir+data_dir)\n",
    "\n",
    "#Printing file list\n",
    "fileList = [f for f in listdir(root_dir+data_dir) if (f.endswith(\".csv\"))]\n",
    "print(\"Sequence files:\")\n",
    "print(\"\\n\".join(fileList))"
   ]
  },
  {
   "cell_type": "code",
   "execution_count": 4,
   "metadata": {},
   "outputs": [
    {
     "name": "stdout",
     "output_type": "stream",
     "text": [
      "Index(['Sample', 'clone', 'Autocrine', 'Expression', 'Mutations/position',\n",
      "       'Norm. Mut/pos'],\n",
      "      dtype='object')\n",
      "Index(['Sample', 'clone', 'Autocrine', 'Expression', 'Mutations/position',\n",
      "       'Norm. Mut/pos'],\n",
      "      dtype='object')\n"
     ]
    }
   ],
   "source": [
    "read_file = data_file+\"/Single-mut_Autocrine-uniqueMutPos_190501.csv\"\n",
    "singleMutUniqueMutPos = pd.read_csv(read_file)\n",
    "print(singleMutUniqueMutPos.columns)\n",
    "print(singleMutUniqueMutPos.columns)"
   ]
  },
  {
   "cell_type": "code",
   "execution_count": 15,
   "metadata": {},
   "outputs": [
    {
     "data": {
      "image/png": "[encoded data removed]",
      "text/plain": [
       "<Figure size 504x360 with 1 Axes>"
      ]
     },
     "metadata": {
      "needs_background": "light"
     },
     "output_type": "display_data"
    }
   ],
   "source": [
    "fig1 = figure(figsize=(7,5))\n",
    "\n",
    "ax1 = sns.scatterplot(x=\"Autocrine\", y=\"Norm. Mut/pos\", hue=\"clone\", data=singleMutUniqueMutPos, palette=\"colorblind\", legend='brief')\n",
    "#ax1.set(xscale='log')\n",
    "ax1.set_xlim(right=0.30)\n",
    "\n",
    "#savefig(root_dir+'/SingleMut_Autocrine-vs-MutPos_190503.pdf', dpi=300, transparent=True)"
   ]
  },
  {
   "cell_type": "code",
   "execution_count": null,
   "metadata": {},
   "outputs": [],
   "source": []
  }
 ],
 "metadata": {
  "kernelspec": {
   "display_name": "Python 3",
   "language": "python",
   "name": "python3"
  },
  "language_info": {
   "codemirror_mode": {
    "name": "ipython",
    "version": 3
   },
   "file_extension": ".py",
   "mimetype": "text/x-python",
   "name": "python",
   "nbconvert_exporter": "python",
   "pygments_lexer": "ipython3",
   "version": "3.7.2"
  }
 },
 "nbformat": 4,
 "nbformat_minor": 2
}
